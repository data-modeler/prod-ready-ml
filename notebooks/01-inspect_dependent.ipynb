{
 "cells": [
  {
   "cell_type": "code",
   "execution_count": 1,
   "metadata": {},
   "outputs": [],
   "source": [
    "import os\n",
    "import sqlalchemy as sa\n",
    "import pandas as pd\n",
    "from dotenv import find_dotenv, load_dotenv\n",
    "\n",
    "ENV_PATH = find_dotenv()\n",
    "load_dotenv(ENV_PATH)\n",
    "os.chdir(os.path.dirname(ENV_PATH))"
   ]
  },
  {
   "cell_type": "code",
   "execution_count": 2,
   "metadata": {},
   "outputs": [
    {
     "name": "stdout",
     "output_type": "stream",
     "text": [
      "DB Schemas:  ['main']\n",
      "Schema Tables:  ['main.train']\n"
     ]
    }
   ],
   "source": [
    "eng = sa.create_engine(os.environ['DB_URI'])\n",
    "conn = eng.connect()\n",
    "schemas = sa.inspect(eng).get_schema_names()\n",
    "print('DB Schemas: ', schemas)\n",
    "\n",
    "meta = sa.MetaData(conn, schema='main')\n",
    "meta.reflect()\n",
    "print('Schema Tables: ', [table for table in meta.tables])"
   ]
  },
  {
   "cell_type": "code",
   "execution_count": 3,
   "metadata": {},
   "outputs": [
    {
     "data": {
      "text/html": [
       "<div>\n",
       "<style scoped>\n",
       "    .dataframe tbody tr th:only-of-type {\n",
       "        vertical-align: middle;\n",
       "    }\n",
       "\n",
       "    .dataframe tbody tr th {\n",
       "        vertical-align: top;\n",
       "    }\n",
       "\n",
       "    .dataframe thead th {\n",
       "        text-align: right;\n",
       "    }\n",
       "</style>\n",
       "<table border=\"1\" class=\"dataframe\">\n",
       "  <thead>\n",
       "    <tr style=\"text-align: right;\">\n",
       "      <th></th>\n",
       "      <th>label</th>\n",
       "      <th>tweet</th>\n",
       "    </tr>\n",
       "    <tr>\n",
       "      <th>id</th>\n",
       "      <th></th>\n",
       "      <th></th>\n",
       "    </tr>\n",
       "  </thead>\n",
       "  <tbody>\n",
       "    <tr>\n",
       "      <th>3046</th>\n",
       "      <td>0</td>\n",
       "      <td>'acche din' for flyers: cap on airfares, lower...</td>\n",
       "    </tr>\n",
       "    <tr>\n",
       "      <th>26051</th>\n",
       "      <td>0</td>\n",
       "      <td>#day in #afghanistan may we have peace in th...</td>\n",
       "    </tr>\n",
       "    <tr>\n",
       "      <th>27146</th>\n",
       "      <td>0</td>\n",
       "      <td>a   girl is always #pretty #shine #noho</td>\n",
       "    </tr>\n",
       "    <tr>\n",
       "      <th>30769</th>\n",
       "      <td>0</td>\n",
       "      <td>the title of my autobiography.</td>\n",
       "    </tr>\n",
       "    <tr>\n",
       "      <th>12990</th>\n",
       "      <td>0</td>\n",
       "      <td>#mango  #naturalfabrics in highly versatile ea...</td>\n",
       "    </tr>\n",
       "    <tr>\n",
       "      <th>19963</th>\n",
       "      <td>0</td>\n",
       "      <td>#fathersdayuk for #sunday :) #dad  skull lea...</td>\n",
       "    </tr>\n",
       "    <tr>\n",
       "      <th>17006</th>\n",
       "      <td>0</td>\n",
       "      <td>listening to   #country #songs after a long we...</td>\n",
       "    </tr>\n",
       "  </tbody>\n",
       "</table>\n",
       "</div>"
      ],
      "text/plain": [
       "       label                                              tweet\n",
       "id                                                             \n",
       "3046       0  'acche din' for flyers: cap on airfares, lower...\n",
       "26051      0    #day in #afghanistan may we have peace in th...\n",
       "27146      0           a   girl is always #pretty #shine #noho \n",
       "30769      0                    the title of my autobiography. \n",
       "12990      0  #mango  #naturalfabrics in highly versatile ea...\n",
       "19963      0    #fathersdayuk for #sunday :) #dad  skull lea...\n",
       "17006      0  listening to   #country #songs after a long we..."
      ]
     },
     "execution_count": 3,
     "metadata": {},
     "output_type": "execute_result"
    }
   ],
   "source": [
    "mydat = pd.read_sql_table(table_name='train', con=conn, schema='main', index_col='id')\n",
    "mydat.sample(7)"
   ]
  },
  {
   "cell_type": "code",
   "execution_count": 4,
   "metadata": {},
   "outputs": [
    {
     "data": {
      "text/html": [
       "<div>\n",
       "<style scoped>\n",
       "    .dataframe tbody tr th:only-of-type {\n",
       "        vertical-align: middle;\n",
       "    }\n",
       "\n",
       "    .dataframe tbody tr th {\n",
       "        vertical-align: top;\n",
       "    }\n",
       "\n",
       "    .dataframe thead th {\n",
       "        text-align: right;\n",
       "    }\n",
       "</style>\n",
       "<table border=\"1\" class=\"dataframe\">\n",
       "  <thead>\n",
       "    <tr style=\"text-align: right;\">\n",
       "      <th></th>\n",
       "      <th>label</th>\n",
       "      <th>tweet</th>\n",
       "    </tr>\n",
       "    <tr>\n",
       "      <th>id</th>\n",
       "      <th></th>\n",
       "      <th></th>\n",
       "    </tr>\n",
       "  </thead>\n",
       "  <tbody>\n",
       "    <tr>\n",
       "      <th>29671</th>\n",
       "      <td>1</td>\n",
       "      <td>black men and black women with stockholm syndr...</td>\n",
       "    </tr>\n",
       "    <tr>\n",
       "      <th>18838</th>\n",
       "      <td>1</td>\n",
       "      <td>@user president jimmy caer leaving his religio...</td>\n",
       "    </tr>\n",
       "    <tr>\n",
       "      <th>20984</th>\n",
       "      <td>1</td>\n",
       "      <td>#scrutinize #savor &amp;amp; #dispose #unbelievabl...</td>\n",
       "    </tr>\n",
       "    <tr>\n",
       "      <th>28991</th>\n",
       "      <td>1</td>\n",
       "      <td>attack her chinguas~ &amp;lt;33</td>\n",
       "    </tr>\n",
       "    <tr>\n",
       "      <th>3921</th>\n",
       "      <td>1</td>\n",
       "      <td>#mcconnell obstruction goes all the way back t...</td>\n",
       "    </tr>\n",
       "  </tbody>\n",
       "</table>\n",
       "</div>"
      ],
      "text/plain": [
       "       label                                              tweet\n",
       "id                                                             \n",
       "29671      1  black men and black women with stockholm syndr...\n",
       "18838      1  @user president jimmy caer leaving his religio...\n",
       "20984      1  #scrutinize #savor &amp; #dispose #unbelievabl...\n",
       "28991      1                       attack her chinguas~ &lt;33 \n",
       "3921       1  #mcconnell obstruction goes all the way back t..."
      ]
     },
     "execution_count": 4,
     "metadata": {},
     "output_type": "execute_result"
    }
   ],
   "source": [
    "mydat.query('label == 1').sample(5)"
   ]
  },
  {
   "cell_type": "code",
   "execution_count": 5,
   "metadata": {},
   "outputs": [
    {
     "name": "stdout",
     "output_type": "stream",
     "text": [
      "# of hate tweets:      2242\n",
      "# of non-hate tweets:  29720\n",
      "% hate:                7.01 %\n"
     ]
    }
   ],
   "source": [
    "n_hate = mydat.label.sum()\n",
    "n = len(mydat)\n",
    "print('# of hate tweets:     ', n_hate)\n",
    "print('# of non-hate tweets: ', n - n_hate)\n",
    "print('% hate:               ', round(n_hate / n, 4) * 100, '%')"
   ]
  },
  {
   "cell_type": "markdown",
   "metadata": {},
   "source": [
    "### Conclusion\n",
    "There is a very significant class imbalance, and the sample size is too small for me to be comfortable resampling.  Since we have yet to split the data for training, validation, and testing, I would not want to lose too much nuance in the tweets if we only have around 1500 or less positive cases in the training data.  As a result, we'll use the F1 score as the performance metric."
   ]
  },
  {
   "cell_type": "code",
   "execution_count": 6,
   "metadata": {},
   "outputs": [],
   "source": [
    "conn.close()"
   ]
  },
  {
   "cell_type": "code",
   "execution_count": null,
   "metadata": {},
   "outputs": [],
   "source": []
  }
 ],
 "metadata": {
  "kernelspec": {
   "display_name": "Python 3",
   "language": "python",
   "name": "python3"
  },
  "language_info": {
   "codemirror_mode": {
    "name": "ipython",
    "version": 3
   },
   "file_extension": ".py",
   "mimetype": "text/x-python",
   "name": "python",
   "nbconvert_exporter": "python",
   "pygments_lexer": "ipython3",
   "version": "3.6.9"
  }
 },
 "nbformat": 4,
 "nbformat_minor": 4
}
